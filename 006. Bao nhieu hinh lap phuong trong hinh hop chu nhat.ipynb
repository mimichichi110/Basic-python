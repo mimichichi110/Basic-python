{
 "cells": [
  {
   "cell_type": "code",
   "execution_count": 9,
   "id": "487149b8",
   "metadata": {},
   "outputs": [
    {
     "name": "stdout",
     "output_type": "stream",
     "text": [
      "So hinh lap phuong toi da chua trong hinh hop chu nhat: 19314\n"
     ]
    }
   ],
   "source": [
    "x = 111\n",
    "y = 87\n",
    "z = 56\n",
    "a = 3\n",
    "\n",
    "#Check moi canh chua toi da bao nhieu HLP\n",
    "max_x = x//a\n",
    "max_y = y//a\n",
    "max_z = z//a\n",
    "\n",
    "count = max_x * max_y * max_z\n",
    "\n",
    "print(\"So hinh lap phuong toi da chua trong hinh hop chu nhat:\", count)\n",
    "\n",
    "\n",
    "\n"
   ]
  },
  {
   "cell_type": "code",
   "execution_count": null,
   "id": "0c1dfb51",
   "metadata": {},
   "outputs": [],
   "source": []
  }
 ],
 "metadata": {
  "kernelspec": {
   "display_name": "Python 3",
   "language": "python",
   "name": "python3"
  },
  "language_info": {
   "codemirror_mode": {
    "name": "ipython",
    "version": 3
   },
   "file_extension": ".py",
   "mimetype": "text/x-python",
   "name": "python",
   "nbconvert_exporter": "python",
   "pygments_lexer": "ipython3",
   "version": "3.8.8"
  }
 },
 "nbformat": 4,
 "nbformat_minor": 5
}
