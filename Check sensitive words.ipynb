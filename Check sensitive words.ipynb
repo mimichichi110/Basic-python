{
 "cells": [
  {
   "cell_type": "code",
   "execution_count": 7,
   "id": "0b0015a8",
   "metadata": {},
   "outputs": [
    {
     "name": "stdout",
     "output_type": "stream",
     "text": [
      "Bài post cần kiểm tra:  Cau nay co chu sex, racist, violence va child abuse. Cau thu 2 thi chi co 3 tu child abuse, violence va racist. Cau cuoi cung giong cau 1 co sex, racist, violence va child abuse\n",
      "Câu 1:  Cau nay co chu sex, racist, violence va child abuse\n",
      "Câu 2:  Cau thu 2 thi chi co 3 tu child abuse, violence va racist\n",
      "Câu 3:  Cau cuoi cung giong cau 1 co sex, racist, violence va child abuse\n",
      "Có block không:  False\n"
     ]
    }
   ],
   "source": [
    "content = \"Cau nay co chu sex, racist, violence va child abuse. Cau thu 2 thi chi co 3 tu child abuse, violence va racist. Cau cuoi cung giong cau 1 co sex, racist, violence va child abuse\"\n",
    "print(\"Bài post cần kiểm tra: \", content)\n",
    "\n",
    "#Tách ra từng câu\n",
    "I = content.split(\". \")\n",
    "sentence_1 = I[0]\n",
    "sentence_2 = I[1]\n",
    "sentence_3 = I[2]\n",
    "print(\"Câu 1: \",sentence_1)\n",
    "print(\"Câu 2: \",sentence_2)\n",
    "print(\"Câu 3: \",sentence_3)\n",
    "\n",
    "#Khai báo các từ khóa cần check\n",
    "word1 = \"sex\"\n",
    "word2 = \"racist\"\n",
    "word3 = \"violence\"\n",
    "word4 = \"child abuse\"\n",
    "\n",
    "#Check các từ khóa xuất hiện trong mỗi câu\n",
    "check_1 = (word1 in sentence_1) and (word1 in sentence_2) and (word1 in sentence_3)\n",
    "check_2 = (word2 in sentence_1) and (word2 in sentence_2) and (word2 in sentence_3)\n",
    "check_3 = (word3 in sentence_1) and (word3 in sentence_2) and (word3 in sentence_3)\n",
    "check_4 = (word4 in sentence_1) and (word4 in sentence_2) and (word4 in sentence_3)\n",
    "\n",
    "#Check có block không. Chỉ block khi cả 4 từ đồng thời xuất hiện trong 3 câu\n",
    "check_all = check_1 and check_2 and check_3 and check_4\n",
    "print(\"Có block không: \", check_all)"
   ]
  },
  {
   "cell_type": "code",
   "execution_count": null,
   "id": "f17407b0",
   "metadata": {},
   "outputs": [],
   "source": []
  }
 ],
 "metadata": {
  "kernelspec": {
   "display_name": "Python 3",
   "language": "python",
   "name": "python3"
  },
  "language_info": {
   "codemirror_mode": {
    "name": "ipython",
    "version": 3
   },
   "file_extension": ".py",
   "mimetype": "text/x-python",
   "name": "python",
   "nbconvert_exporter": "python",
   "pygments_lexer": "ipython3",
   "version": "3.8.8"
  }
 },
 "nbformat": 4,
 "nbformat_minor": 5
}
