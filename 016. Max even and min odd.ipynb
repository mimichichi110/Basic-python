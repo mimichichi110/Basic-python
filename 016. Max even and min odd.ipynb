{
 "cells": [
  {
   "cell_type": "code",
   "execution_count": 32,
   "id": "766d0e0a",
   "metadata": {},
   "outputs": [
    {
     "name": "stdout",
     "output_type": "stream",
     "text": [
      "(220, 11)\n"
     ]
    }
   ],
   "source": [
    "def isnumber(text):\n",
    "    try:\n",
    "        num = int(text)\n",
    "        return True\n",
    "    except:\n",
    "        return False\n",
    "\n",
    "def maxe_mino(text):\n",
    "    '''Hàm tìm số chẵn lớn nhất và số lẻ nhỏ nhất.\n",
    "    Trường hợp không tìm thấy thì trả về None'''\n",
    "    text = text.split()\n",
    "\n",
    "    even = False\n",
    "    odd = False\n",
    "    for word in text:\n",
    "        if isnumber(word) and int(word) % 2 == 0 and not even:\n",
    "            even = True\n",
    "            max_even = int(word)\n",
    "\n",
    "        if isnumber(word) and int(word) % 2 != 0 and not odd:\n",
    "            odd = True\n",
    "            min_odd = int(word)\n",
    "\n",
    "    if even:\n",
    "        for word in text:\n",
    "            if isnumber(word) and int(word) % 2 == 0 and int(word) > max_even:\n",
    "                max_even = int(word)\n",
    "    else:\n",
    "        max_even = None\n",
    "    if odd:\n",
    "        for word in text:\n",
    "            if isnumber(word) and int(word) % 2 != 0 and int(word) < min_odd:\n",
    "                min_odd = int(word)\n",
    "    else:\n",
    "        min_odd = None\n",
    "    return max_even, min_odd\n",
    "        \n",
    "a = 'abc 54r 23 11 220 12 abd'\n",
    "print(maxe_mino(a))"
   ]
  }
 ],
 "metadata": {
  "kernelspec": {
   "display_name": "Python 3",
   "language": "python",
   "name": "python3"
  },
  "language_info": {
   "codemirror_mode": {
    "name": "ipython",
    "version": 3
   },
   "file_extension": ".py",
   "mimetype": "text/x-python",
   "name": "python",
   "nbconvert_exporter": "python",
   "pygments_lexer": "ipython3",
   "version": "3.8.8"
  }
 },
 "nbformat": 4,
 "nbformat_minor": 5
}
