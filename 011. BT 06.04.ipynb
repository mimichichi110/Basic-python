{
 "cells": [
  {
   "cell_type": "code",
   "execution_count": 17,
   "id": "f22edcf6",
   "metadata": {},
   "outputs": [
    {
     "name": "stdout",
     "output_type": "stream",
     "text": [
      "['lê', 'thị', 'minh', 'châu']\n",
      "Lê Thị Minh Châu "
     ]
    }
   ],
   "source": [
    "# Nhập họ tên đúng format\n",
    "\n",
    "my_string = '   LÊ thị    MiNH chÂU   '\n",
    "my_string = my_string.lower()\n",
    "my_string = my_string.split()\n",
    "\n",
    "for i in my_string:\n",
    "    if i != '':\n",
    "        full_name = i[0].upper() + i[1:]\n",
    "        print(full_name, end =' ')"
   ]
  },
  {
   "cell_type": "code",
   "execution_count": 42,
   "id": "f93de8c0",
   "metadata": {
    "scrolled": true
   },
   "outputs": [
    {
     "name": "stdout",
     "output_type": "stream",
     "text": [
      "272\n",
      "Mã vạch không hợp lệ\n"
     ]
    }
   ],
   "source": [
    "# Kiểm tra mã vạch\n",
    "\n",
    "bc = '4902778120972'\n",
    "i = 0\n",
    "\n",
    "while i < 12:\n",
    "    if i % 2 == 0:\n",
    "        B += int(bc[i])\n",
    "    else:\n",
    "        A += int(bc[i])\n",
    "    i += 1\n",
    "\n",
    "D = A + 3*B\n",
    "if D % 10 != 0:\n",
    "    F = 10 - (D % 10)\n",
    "else:\n",
    "    F = 0\n",
    "\n",
    "C = int(bc[-1])\n",
    "\n",
    "if F == C:\n",
    "    print(\"Mã vạch hợp lệ\")\n",
    "else:\n",
    "    print(\"Mã vạch không hợp lệ\")"
   ]
  }
 ],
 "metadata": {
  "kernelspec": {
   "display_name": "Python 3",
   "language": "python",
   "name": "python3"
  },
  "language_info": {
   "codemirror_mode": {
    "name": "ipython",
    "version": 3
   },
   "file_extension": ".py",
   "mimetype": "text/x-python",
   "name": "python",
   "nbconvert_exporter": "python",
   "pygments_lexer": "ipython3",
   "version": "3.8.8"
  }
 },
 "nbformat": 4,
 "nbformat_minor": 5
}
