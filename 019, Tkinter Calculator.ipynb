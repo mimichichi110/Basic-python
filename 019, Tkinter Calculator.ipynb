{
 "cells": [
  {
   "cell_type": "code",
   "execution_count": null,
   "id": "15bef309",
   "metadata": {},
   "outputs": [],
   "source": [
    "from tkinter import *\n",
    "\n",
    "root = Tk()\n",
    "root.title('Calculator')\n",
    "root.geometry('250x350')\n",
    "root.resizable(0, 0)\n",
    "root.eval('tk::PlaceWindow . center')\n",
    "\n",
    "#result display\n",
    "input_frame = Frame(root, width = 240, height = 60, bd = 0, highlightbackground = \"black\", highlightcolor = \"black\", highlightthickness = 2)\n",
    "input_frame.grid(row=0, columnspan=5)\n",
    "\n",
    "#1st row\n",
    "mc = Button(root,text = 'MC', width = 5, height = 2).grid(row=1,column=0,padx=1,pady=2)\n",
    "mr = Button(root,text = 'MR', width = 5, height = 2).grid(row=1,column=1,padx=1,pady=2)\n",
    "ms = Button(root,text = 'MS', width = 5, height = 2).grid(row=1,column=2,padx=1,pady=2)\n",
    "m_plus = Button(root,text = 'M+', width = 5, height = 2).grid(row=1,column=3,padx=1,pady=2)\n",
    "m_pinus = Button(root,text = 'M-', width = 5, height = 2).grid(row=1,column=4,padx=1,pady=2)\n",
    "\n",
    "#2nd row\n",
    "arrow = Button(root,text = '←', width = 5, height = 2).grid(row=2,column=0,padx=1,pady=2)\n",
    "ce = Button(root,text = 'CE', width = 5, height = 2).grid(row=2,column=1,padx=1,pady=2)\n",
    "c = Button(root,text = 'C', width = 5, height = 2).grid(row=2,column=2,padx=1,pady=2)\n",
    "pl_mn = Button(root,text = '±', width = 5, height = 2).grid(row=2,column=3,padx=1,pady=2)\n",
    "cb2 = Button(root,text = '√', width = 5, height = 2).grid(row=2,column=4,padx=1,pady=2)\n",
    "\n",
    "#3rd row\n",
    "bt_7 = Button(root,text = '7', width = 5, height = 2).grid(row=3,column=0,padx=1,pady=2)\n",
    "bt_8 = Button(root,text = '8', width = 5, height = 2).grid(row=3,column=1,padx=1,pady=2)\n",
    "bt_9 = Button(root,text = '9', width = 5, height = 2).grid(row=3,column=2,padx=1,pady=2)\n",
    "slash = Button(root,text = '/', width = 5, height = 2).grid(row=3,column=3,padx=1,pady=2)\n",
    "pct = Button(root,text = '%', width = 5, height = 2).grid(row=3,column=4,padx=1,pady=2)\n",
    "\n",
    "#4th row\n",
    "bt_4 = Button(root,text = '4', width = 5, height = 2).grid(row=4,column=0,padx=1,pady=2)\n",
    "bt_5 = Button(root,text = '5', width = 5, height = 2).grid(row=4,column=1,padx=1,pady=2)\n",
    "bt_6 = Button(root,text = '6', width = 5, height = 2).grid(row=4,column=2,padx=1,pady=2)\n",
    "atk = Button(root,text = '*', width = 5, height = 2).grid(row=4,column=3,padx=1,pady=2)\n",
    "abc = Button(root,text = '1/x', width = 5, height = 2).grid(row=4,column=4,padx=1,pady=2)\n",
    "\n",
    "#5th, 6th row\n",
    "bt_1 = Button(root,text = '1', width = 5, height = 2).grid(row=5,column=0,padx=1,pady=2)\n",
    "bt_2 = Button(root,text = '2', width = 5, height = 2).grid(row=5,column=1,padx=1,pady=2)\n",
    "bt_3 = Button(root,text = '3', width = 5, height = 2).grid(row=5,column=2,padx=1,pady=2)\n",
    "bt_minus = Button(root,text = '-', width = 5, height = 2).grid(row=5,column=3,padx=1,pady=2)\n",
    "bt_point = Button(root,text = '.', width = 5, height = 2).grid(row=6,column=2,padx=1,pady=2)\n",
    "bt_add = Button(root,text = '+', width = 5, height = 2).grid(row=6,column=3,padx=1,pady=2)\n",
    "\n",
    "bt_equal = Button(root,text = '=', width = 5, height = 5).grid(row=5,column=4, rowspan=2)\n",
    "bt_0 = Button(root,text = '=', width = 12, height = 2).grid(row=6,column=0, columnspan=2)\n",
    "root.mainloop()"
   ]
  }
 ],
 "metadata": {
  "kernelspec": {
   "display_name": "Python 3",
   "language": "python",
   "name": "python3"
  },
  "language_info": {
   "codemirror_mode": {
    "name": "ipython",
    "version": 3
   },
   "file_extension": ".py",
   "mimetype": "text/x-python",
   "name": "python",
   "nbconvert_exporter": "python",
   "pygments_lexer": "ipython3",
   "version": "3.8.8"
  }
 },
 "nbformat": 4,
 "nbformat_minor": 5
}
