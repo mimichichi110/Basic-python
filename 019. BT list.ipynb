{
 "cells": [
  {
   "cell_type": "code",
   "execution_count": 7,
   "id": "89a47a2a",
   "metadata": {},
   "outputs": [
    {
     "name": "stdout",
     "output_type": "stream",
     "text": [
      "Nhập chuỗi chứa các số nguyên tố: 11 12 13\n"
     ]
    },
    {
     "ename": "ValueError",
     "evalue": "invalid literal for int() with base 10: ' '",
     "output_type": "error",
     "traceback": [
      "\u001b[1;31m---------------------------------------------------------------------------\u001b[0m",
      "\u001b[1;31mValueError\u001b[0m                                Traceback (most recent call last)",
      "\u001b[1;32m<ipython-input-7-8ffe48fabb13>\u001b[0m in \u001b[0;36m<module>\u001b[1;34m\u001b[0m\n\u001b[0;32m      8\u001b[0m \u001b[1;32mfor\u001b[0m \u001b[0mnum\u001b[0m \u001b[1;32min\u001b[0m \u001b[0mnumber\u001b[0m\u001b[1;33m:\u001b[0m\u001b[1;33m\u001b[0m\u001b[1;33m\u001b[0m\u001b[0m\n\u001b[0;32m      9\u001b[0m     \u001b[0mcount\u001b[0m \u001b[1;33m=\u001b[0m \u001b[1;36m0\u001b[0m\u001b[1;33m\u001b[0m\u001b[1;33m\u001b[0m\u001b[0m\n\u001b[1;32m---> 10\u001b[1;33m     \u001b[1;32mfor\u001b[0m \u001b[0mj\u001b[0m \u001b[1;32min\u001b[0m \u001b[0mrange\u001b[0m\u001b[1;33m(\u001b[0m\u001b[1;36m1\u001b[0m\u001b[1;33m,\u001b[0m \u001b[0mint\u001b[0m\u001b[1;33m(\u001b[0m\u001b[0mnum\u001b[0m\u001b[1;33m)\u001b[0m\u001b[1;33m+\u001b[0m\u001b[1;36m1\u001b[0m\u001b[1;33m)\u001b[0m\u001b[1;33m:\u001b[0m\u001b[1;33m\u001b[0m\u001b[1;33m\u001b[0m\u001b[0m\n\u001b[0m\u001b[0;32m     11\u001b[0m         \u001b[1;32mif\u001b[0m \u001b[0mint\u001b[0m\u001b[1;33m(\u001b[0m\u001b[0mnum\u001b[0m\u001b[1;33m)\u001b[0m \u001b[1;33m%\u001b[0m \u001b[0mj\u001b[0m \u001b[1;33m==\u001b[0m \u001b[1;36m0\u001b[0m\u001b[1;33m:\u001b[0m\u001b[1;33m\u001b[0m\u001b[1;33m\u001b[0m\u001b[0m\n\u001b[0;32m     12\u001b[0m             \u001b[0mcount\u001b[0m \u001b[1;33m+=\u001b[0m \u001b[1;36m1\u001b[0m\u001b[1;33m\u001b[0m\u001b[1;33m\u001b[0m\u001b[0m\n",
      "\u001b[1;31mValueError\u001b[0m: invalid literal for int() with base 10: ' '"
     ]
    }
   ],
   "source": [
    "# Nhập vào một chuỗi chứa các số nguyên dương. \n",
    "# Tính trung bình cộng của các số nguyên tố chứa trong chuỗi đã cho\n",
    "\n",
    "number = input(\"Nhập chuỗi chứa các số nguyên tố: \")\n",
    "number.split(' ')\n",
    "\n",
    "new_list = []\n",
    "for num in number:\n",
    "    count = 0\n",
    "    for j in range(1, int(num)+1):\n",
    "        if int(num) % j == 0:\n",
    "            count += 1\n",
    "    if count < 2:\n",
    "        new_list.append(num)\n",
    "total = 0\n",
    "for i in new_list:\n",
    "    total += i\n",
    "print(\"Trung bình cộng các số nguyên tố là: \",total/len(new_list))"
   ]
  },
  {
   "cell_type": "code",
   "execution_count": 20,
   "id": "63817171",
   "metadata": {},
   "outputs": [
    {
     "name": "stdout",
     "output_type": "stream",
     "text": [
      "Nhập số công việc:3\n",
      "Giờ bắt đầu công việc thứ 1: 6\n",
      "Giờ kết thúc công việc thứ 1: 10\n",
      "Giờ bắt đầu công việc thứ 2: 9\n",
      "Giờ kết thúc công việc thứ 2: 12\n",
      "Giờ bắt đầu công việc thứ 3: 20\n",
      "Giờ kết thúc công việc thứ 3: 22\n",
      "[[6, 10], [9, 12], [20, 22]]\n",
      "[False, False, False, False, False, True, True, True, True, True, True, False, False, False, False, False, False, False, False, True, True, False, False, False]\n",
      "8\n"
     ]
    }
   ],
   "source": [
    "# Tính tổng số giờ làm việc\n",
    "# 6-10h: cv A, 12-14h: cv_B, 13-18h: cv_C\n",
    "\n",
    "n = int(input(\"Nhập số công việc:\"))\n",
    "input_data = []\n",
    "for i in range(0,n):\n",
    "    cv = []\n",
    "    cv.append(int(input(\"Giờ bắt đầu công việc thứ {0}: \".format(i+1))))\n",
    "    cv.append(int(input(\"Giờ kết thúc công việc thứ {0}: \".format(i+1))))\n",
    "    input_data.append(cv)\n",
    "print(input_data)\n",
    "check_list = [False for i in range(0,24)]\n",
    "\n",
    "for i in input_data:\n",
    "    for j in range(i[0],i[1]):\n",
    "        check_list[j-1] = True\n",
    "print(check_list)\n",
    "\n",
    "hour = 0\n",
    "for i in check_list:\n",
    "    if i:\n",
    "        hour += 1\n",
    "print(hour)    "
   ]
  }
 ],
 "metadata": {
  "kernelspec": {
   "display_name": "Python 3",
   "language": "python",
   "name": "python3"
  },
  "language_info": {
   "codemirror_mode": {
    "name": "ipython",
    "version": 3
   },
   "file_extension": ".py",
   "mimetype": "text/x-python",
   "name": "python",
   "nbconvert_exporter": "python",
   "pygments_lexer": "ipython3",
   "version": "3.8.8"
  }
 },
 "nbformat": 4,
 "nbformat_minor": 5
}
