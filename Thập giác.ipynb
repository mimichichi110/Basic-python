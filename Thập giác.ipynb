{
 "cells": [
  {
   "cell_type": "code",
   "execution_count": null,
   "id": "12522222",
   "metadata": {},
   "outputs": [],
   "source": [
    "import turtle\n",
    "\n",
    "tl = turtle.Turtle()\n",
    "tl.shape('turtle')\n",
    "tl.hideturtle()\n",
    "tl.pensize(3)\n",
    "\n",
    "tl.penup()\n",
    "tl.backward(30)\n",
    "tl.left(90)\n",
    "tl.forward(100)\n",
    "tl.right(90)\n",
    "tl.pendown()\n",
    "\n",
    "tl.fillcolor('pink')\n",
    "tl.begin_fill()\n",
    "tl.forward(60)\n",
    "tl.right(36)\n",
    "tl.forward(60)\n",
    "tl.right(36)\n",
    "tl.forward(60)\n",
    "tl.right(36)\n",
    "tl.forward(60)\n",
    "tl.right(36)\n",
    "tl.forward(60)\n",
    "tl.right(36)\n",
    "tl.forward(60)\n",
    "tl.right(36)\n",
    "tl.forward(60)\n",
    "tl.right(36)\n",
    "tl.forward(60)\n",
    "tl.right(36)\n",
    "tl.forward(60)\n",
    "tl.right(36)\n",
    "tl.forward(60)\n",
    "tl.end_fill()\n",
    "\n",
    "turtle.done()\n"
   ]
  }
 ],
 "metadata": {
  "kernelspec": {
   "display_name": "Python 3",
   "language": "python",
   "name": "python3"
  },
  "language_info": {
   "codemirror_mode": {
    "name": "ipython",
    "version": 3
   },
   "file_extension": ".py",
   "mimetype": "text/x-python",
   "name": "python",
   "nbconvert_exporter": "python",
   "pygments_lexer": "ipython3",
   "version": "3.8.8"
  }
 },
 "nbformat": 4,
 "nbformat_minor": 5
}
