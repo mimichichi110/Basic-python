{
 "cells": [
  {
   "cell_type": "code",
   "execution_count": 5,
   "id": "0c65530c",
   "metadata": {},
   "outputs": [
    {
     "name": "stdout",
     "output_type": "stream",
     "text": [
      "Nhập a: 3\n",
      "Nhập b: 4\n",
      "Nhập c: 5\n",
      "3 số tạo nên bộ số Pitago.\n"
     ]
    }
   ],
   "source": [
    "# Nhập và kiểm tra 3 số có tạo thành bộ số Pitago không\n",
    "a = int(input(\"Nhập a: \"))\n",
    "b = int(input(\"Nhập b: \"))\n",
    "c = int(input(\"Nhập c: \"))\n",
    "\n",
    "if a**2 + b**2 == c**2 or a**2 + c**2 == b**2 or b**2 + c**2 == a**2:\n",
    "    print(\"3 số tạo nên bộ số Pitago.\")\n",
    "else:\n",
    "    print(\"3 số không tạo nên bộ số Pitago.\")"
   ]
  },
  {
   "cell_type": "code",
   "execution_count": 6,
   "id": "edfc2448",
   "metadata": {},
   "outputs": [
    {
     "name": "stdout",
     "output_type": "stream",
     "text": [
      "Nhập số phút gọi: 250\n",
      "Tổng số tiền cước điện thoại là:  125000\n"
     ]
    }
   ],
   "source": [
    "# Nhập số phút gọi và tính tiền\n",
    "m = int(input(\"Nhập số phút gọi: \"))\n",
    "com_fee = 25000\n",
    "\n",
    "if m <= 50:\n",
    "    i = 600 * m\n",
    "elif m <= 200:\n",
    "    i = 600 * 50 + (m-50)*400\n",
    "else:\n",
    "    i = 600 * 50 + 400 * 150 + (m-200) * 200\n",
    "print(\"Tổng số tiền cước điện thoại là: \", str(com_fee + i))"
   ]
  },
  {
   "cell_type": "code",
   "execution_count": 10,
   "id": "1e838eb6",
   "metadata": {},
   "outputs": [
    {
     "name": "stdout",
     "output_type": "stream",
     "text": [
      "Nhập một số bất kỳ từ 0 đến 6: 5\n",
      "Saturday\n"
     ]
    }
   ],
   "source": [
    "# In ra thứ trong tuần\n",
    "week_day = int(input(\"Nhập một số bất kỳ từ 0 đến 6: \"))\n",
    "\n",
    "if week_day == 0:\n",
    "    print(\"Monday\")\n",
    "elif week_day == 1:\n",
    "    print(\"Tuesday\")\n",
    "elif week_day == 2:\n",
    "    print(\"Wednesday\")\n",
    "elif week_day == 3:\n",
    "    print(\"Thursday\")\n",
    "elif week_day == 4:\n",
    "    print(\"Friday\")\n",
    "elif week_day == 5:\n",
    "    print(\"Saturday\")\n",
    "elif week_day == 6:\n",
    "    print(\"Sunday\")\n",
    "else:\n",
    "    print(\"Lỗi nhập dữ liệu đầu vào\")"
   ]
  },
  {
   "cell_type": "code",
   "execution_count": null,
   "id": "ca810cc6",
   "metadata": {},
   "outputs": [],
   "source": []
  }
 ],
 "metadata": {
  "kernelspec": {
   "display_name": "Python 3",
   "language": "python",
   "name": "python3"
  },
  "language_info": {
   "codemirror_mode": {
    "name": "ipython",
    "version": 3
   },
   "file_extension": ".py",
   "mimetype": "text/x-python",
   "name": "python",
   "nbconvert_exporter": "python",
   "pygments_lexer": "ipython3",
   "version": "3.8.8"
  }
 },
 "nbformat": 4,
 "nbformat_minor": 5
}
