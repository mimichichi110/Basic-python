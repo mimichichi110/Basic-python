{
 "cells": [
  {
   "cell_type": "code",
   "execution_count": 1,
   "id": "16c28470",
   "metadata": {},
   "outputs": [
    {
     "name": "stdout",
     "output_type": "stream",
     "text": [
      "Nhập số lượng ngôi sao cần vẽ: 4\n"
     ]
    }
   ],
   "source": [
    "import turtle\n",
    "\n",
    "tl = turtle.Turtle()\n",
    "tl.shape('turtle')\n",
    "tl.hideturtle()\n",
    "tl.pencolor('blue')\n",
    "tl.penup()\n",
    "tl.goto(-400,0)\n",
    "tl.pendown()\n",
    "\n",
    "n = int(input(\"Nhập số lượng ngôi sao cần vẽ: \"))\n",
    "\n",
    "for i in range(n):\n",
    "    tl.fillcolor('blue')\n",
    "    tl.begin_fill()\n",
    "    for i in range(5):\n",
    "        tl.forward(200)\n",
    "        tl.right(144)\n",
    "    tl.end_fill()\n",
    "    tl.penup()\n",
    "    tl.forward(144 + 200)\n",
    "    tl.pendown()\n",
    "turtle.done()"
   ]
  },
  {
   "cell_type": "code",
   "execution_count": 4,
   "id": "4347fc52",
   "metadata": {},
   "outputs": [
    {
     "name": "stdout",
     "output_type": "stream",
     "text": [
      "['nguyễn đình chiểu sắc huyền hỏi ngã nặng']\n",
      "nguyen dinh chieu sac huyen hoi nga nang \n"
     ]
    }
   ],
   "source": [
    "# Nhập tên có dấu và in ra tiếng việt không dấu\n",
    "\n",
    "text = 'Nguyễn Đình Chiểu Sắc Huyền Hỏi Ngã Nặng'\n",
    "text = text.strip().lower()\n",
    "text = text.split('  ')\n",
    "print(text)\n",
    "a1 = 'aăâáàảãạắằẳẵặấầẩẫậ'\n",
    "e1 = 'eêéèẻẽẹếềểễệ'\n",
    "i1 = 'iíìỉĩị'\n",
    "o1 = 'oôơóòỏõọốồổỗộớờởỡợ'\n",
    "u1 = 'uưúùủũụứừửữự'\n",
    "d1 = 'dđ'\n",
    "\n",
    "concate = ''\n",
    "full_name = ''\n",
    "\n",
    "for word in text:\n",
    "    for char in word:\n",
    "        if char in a1:\n",
    "            char = char.replace(char,'a')\n",
    "        elif char in e1:\n",
    "            char = char.replace(char,'e')\n",
    "        elif char in i1:\n",
    "            char = char.replace(char,'i')\n",
    "        elif char in o1:\n",
    "            char = char.replace(char,'o')\n",
    "        elif char in u1:\n",
    "            char = char.replace(char,'u')\n",
    "        elif char in d1:\n",
    "            char = char.replace(char,'d')\n",
    "        else:\n",
    "            char = char\n",
    "        concate += char\n",
    "    full_name += concate + ' '\n",
    "print(full_name)"
   ]
  }
 ],
 "metadata": {
  "kernelspec": {
   "display_name": "Python 3",
   "language": "python",
   "name": "python3"
  },
  "language_info": {
   "codemirror_mode": {
    "name": "ipython",
    "version": 3
   },
   "file_extension": ".py",
   "mimetype": "text/x-python",
   "name": "python",
   "nbconvert_exporter": "python",
   "pygments_lexer": "ipython3",
   "version": "3.8.8"
  }
 },
 "nbformat": 4,
 "nbformat_minor": 5
}
