{
 "cells": [
  {
   "cell_type": "code",
   "execution_count": 3,
   "id": "668a20e7",
   "metadata": {},
   "outputs": [
    {
     "name": "stdout",
     "output_type": "stream",
     "text": [
      "Bảng cửu chương 2:\n",
      "2 x 1 = 9\n",
      "2 x 2 = 18\n",
      "2 x 3 = 27\n",
      "2 x 4 = 36\n",
      "2 x 5 = 45\n",
      "2 x 6 = 54\n",
      "2 x 7 = 63\n",
      "2 x 8 = 72\n",
      "2 x 9 = 81\n",
      "Bảng cửu chương 3:\n",
      "3 x 1 = 9\n",
      "3 x 2 = 18\n",
      "3 x 3 = 27\n",
      "3 x 4 = 36\n",
      "3 x 5 = 45\n",
      "3 x 6 = 54\n",
      "3 x 7 = 63\n",
      "3 x 8 = 72\n",
      "3 x 9 = 81\n",
      "Bảng cửu chương 4:\n",
      "4 x 1 = 9\n",
      "4 x 2 = 18\n",
      "4 x 3 = 27\n",
      "4 x 4 = 36\n",
      "4 x 5 = 45\n",
      "4 x 6 = 54\n",
      "4 x 7 = 63\n",
      "4 x 8 = 72\n",
      "4 x 9 = 81\n",
      "Bảng cửu chương 5:\n",
      "5 x 1 = 9\n",
      "5 x 2 = 18\n",
      "5 x 3 = 27\n",
      "5 x 4 = 36\n",
      "5 x 5 = 45\n",
      "5 x 6 = 54\n",
      "5 x 7 = 63\n",
      "5 x 8 = 72\n",
      "5 x 9 = 81\n",
      "Bảng cửu chương 6:\n",
      "6 x 1 = 9\n",
      "6 x 2 = 18\n",
      "6 x 3 = 27\n",
      "6 x 4 = 36\n",
      "6 x 5 = 45\n",
      "6 x 6 = 54\n",
      "6 x 7 = 63\n",
      "6 x 8 = 72\n",
      "6 x 9 = 81\n",
      "Bảng cửu chương 7:\n",
      "7 x 1 = 9\n",
      "7 x 2 = 18\n",
      "7 x 3 = 27\n",
      "7 x 4 = 36\n",
      "7 x 5 = 45\n",
      "7 x 6 = 54\n",
      "7 x 7 = 63\n",
      "7 x 8 = 72\n",
      "7 x 9 = 81\n",
      "Bảng cửu chương 8:\n",
      "8 x 1 = 9\n",
      "8 x 2 = 18\n",
      "8 x 3 = 27\n",
      "8 x 4 = 36\n",
      "8 x 5 = 45\n",
      "8 x 6 = 54\n",
      "8 x 7 = 63\n",
      "8 x 8 = 72\n",
      "8 x 9 = 81\n",
      "Bảng cửu chương 9:\n",
      "9 x 1 = 9\n",
      "9 x 2 = 18\n",
      "9 x 3 = 27\n",
      "9 x 4 = 36\n",
      "9 x 5 = 45\n",
      "9 x 6 = 54\n",
      "9 x 7 = 63\n",
      "9 x 8 = 72\n",
      "9 x 9 = 81\n"
     ]
    }
   ],
   "source": [
    "# In ra bảng cửu chương\n",
    "for j in range(2,10):\n",
    "    print(\"Bảng cửu chương {}:\".format(j))\n",
    "    for i in range(1, 10):\n",
    "        print(\"{} x {} = {}\".format(j, i, n*i))"
   ]
  },
  {
   "cell_type": "code",
   "execution_count": null,
   "id": "904206f9",
   "metadata": {},
   "outputs": [],
   "source": [
    "#Tìm nghiệm gần đúng của hàm f(x) = e^x + sin(x) trong khoảng [-1, 1], với sai lệnh của nghiệm là alpha = 0.00001\n",
    "\n",
    "\n"
   ]
  }
 ],
 "metadata": {
  "kernelspec": {
   "display_name": "Python 3",
   "language": "python",
   "name": "python3"
  },
  "language_info": {
   "codemirror_mode": {
    "name": "ipython",
    "version": 3
   },
   "file_extension": ".py",
   "mimetype": "text/x-python",
   "name": "python",
   "nbconvert_exporter": "python",
   "pygments_lexer": "ipython3",
   "version": "3.8.8"
  }
 },
 "nbformat": 4,
 "nbformat_minor": 5
}
