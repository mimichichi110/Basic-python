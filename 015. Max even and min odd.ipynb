{
 "cells": [
  {
   "cell_type": "code",
   "execution_count": 21,
   "id": "781d0304",
   "metadata": {},
   "outputs": [
    {
     "name": "stdout",
     "output_type": "stream",
     "text": [
      "Max even, Min odd:  (400, 11)\n"
     ]
    }
   ],
   "source": [
    "def maxe_mino(my_string):\n",
    "    '''Hàm tìm số chẵn lớn nhất và số lẻ nhỏ nhất'''\n",
    "    my_string = my_string.strip().split()\n",
    "    new_string = ''\n",
    "    for i in my_string:\n",
    "        if i.isdigit():\n",
    "            new_string += i + ' '\n",
    "    new_string = new_string.strip().split(' ')\n",
    "\n",
    "    max_even = 0\n",
    "    min_odd = 999999999999\n",
    "    for j in new_string:\n",
    "        if int(j) % 2 == 0:\n",
    "            if int(j) > max_even:\n",
    "                max_even = int(j)\n",
    "        else:\n",
    "            if int(j) < min_odd:\n",
    "                min_odd = int(j)\n",
    "\n",
    "    return max_even, min_odd\n",
    "        \n",
    "a = 'abd 34 tr13 85 13 11 sh 342 400 21 def'\n",
    "print(\"Max even, Min odd: \",maxe_mino(a))"
   ]
  }
 ],
 "metadata": {
  "kernelspec": {
   "display_name": "Python 3",
   "language": "python",
   "name": "python3"
  },
  "language_info": {
   "codemirror_mode": {
    "name": "ipython",
    "version": 3
   },
   "file_extension": ".py",
   "mimetype": "text/x-python",
   "name": "python",
   "nbconvert_exporter": "python",
   "pygments_lexer": "ipython3",
   "version": "3.8.8"
  }
 },
 "nbformat": 4,
 "nbformat_minor": 5
}
