{
 "cells": [
  {
   "cell_type": "code",
   "execution_count": 34,
   "id": "e2ed5a3e",
   "metadata": {},
   "outputs": [
    {
     "name": "stdout",
     "output_type": "stream",
     "text": [
      "Nhập số phần tử trong tuple: 5\n",
      "(4, 2, 2, 3, 5)\n",
      "(8, 4, 4, 6, 10)\n",
      "(4, 4)\n"
     ]
    }
   ],
   "source": [
    "# Tạo 2 tuple\n",
    "# Tuple 1 gồm n phần tử số nguyên bất kỳ\n",
    "# Tuple 2 gồm n phần tử và mỗi phần tử có giá trị gấp đôi phần tử ở vị trí tương ứng trong tuple 1\n",
    "# Tìm những phần tử xuất hiện cả trong 2 tuple\n",
    "\n",
    "import random\n",
    "n = int(input(\"Nhập số phần tử trong tuple: \"))\n",
    "\n",
    "matrix_1 = []\n",
    "for i in range(n):\n",
    "    matrix_1.append(random.choice(range(10)))\n",
    "\n",
    "matrix_2 = []\n",
    "for i in matrix_1:  \n",
    "    matrix_2.append(i*2)\n",
    "\n",
    "dup_list = []\n",
    "for i in matrix_1:\n",
    "    for j in matrix_2:\n",
    "        if i == j:\n",
    "            dup_list.append(i)\n",
    "print(tuple(matrix_1))\n",
    "print(tuple(matrix_2))\n",
    "print(tuple(dup_list))"
   ]
  },
  {
   "cell_type": "code",
   "execution_count": 46,
   "id": "89e32d7e",
   "metadata": {},
   "outputs": [
    {
     "name": "stdout",
     "output_type": "stream",
     "text": [
      "Nhập số list con: 3\n",
      "Nhập số phần tử trong mỗi list con: 4\n",
      "List A:  [[5, 4, 4, 2], [1, 19, 9, 5], [15, 15, 7, 6]]\n",
      "\n",
      "Trung bình phần tử [5, 4, 4, 2] của list A là: 3.75\n",
      "Trung bình phần tử [1, 19, 9, 5] của list A là: 8.5\n",
      "Trung bình phần tử [15, 15, 7, 6] của list A là: 10.75\n"
     ]
    }
   ],
   "source": [
    "# Tạo 1 list A gồm m phần tử. Mỗi phần tử của list A là 1 list khác gồm n phần tử là các số tự nhiên\n",
    "# Tính giá trị trung bình của mỗi phần tử trong list A đã cho\n",
    "\n",
    "import random\n",
    "m = int(input(\"Nhập số list con: \"))\n",
    "n = int(input(\"Nhập số phần tử trong mỗi list con: \"))\n",
    "\n",
    "list_A = []\n",
    "for i in range(m):\n",
    "    list_con = []\n",
    "    for j in range(n):\n",
    "        list_con.append(random.choice(range(20)))\n",
    "    list_A.append(list_con)\n",
    "print(\"List A: \",list_A)\n",
    "print('')\n",
    "\n",
    "for i in list_A:\n",
    "    total = 0\n",
    "    for j in i:\n",
    "        total += j\n",
    "    avg = total/len(i)\n",
    "    print(\"Trung bình phần tử {0} của list A là: {1}\".format(i,avg))  "
   ]
  },
  {
   "cell_type": "code",
   "execution_count": null,
   "id": "15b845da",
   "metadata": {},
   "outputs": [],
   "source": []
  }
 ],
 "metadata": {
  "kernelspec": {
   "display_name": "Python 3",
   "language": "python",
   "name": "python3"
  },
  "language_info": {
   "codemirror_mode": {
    "name": "ipython",
    "version": 3
   },
   "file_extension": ".py",
   "mimetype": "text/x-python",
   "name": "python",
   "nbconvert_exporter": "python",
   "pygments_lexer": "ipython3",
   "version": "3.8.8"
  }
 },
 "nbformat": 4,
 "nbformat_minor": 5
}
