{
 "cells": [
  {
   "cell_type": "code",
   "execution_count": 11,
   "id": "32fc4838",
   "metadata": {},
   "outputs": [
    {
     "name": "stdout",
     "output_type": "stream",
     "text": [
      "Co phai tam giac khong?: False\n",
      "Day khong phai la tam giac\n"
     ]
    }
   ],
   "source": [
    "x1 = 0\n",
    "y1 = 0\n",
    "\n",
    "x2 = 2\n",
    "y2 = 0\n",
    "\n",
    "x3 = 1\n",
    "y3 = 0\n",
    "\n",
    "d1 = ((x1-x2)**2 + (y1-y2)**2)**0.5\n",
    "d2 = ((x1-x3)**2 + (y1-y3)**2)**0.5\n",
    "d3 = ((x2-x3)**2 + (y2-y3)**2)**0.5\n",
    "\n",
    "check = d1+d2>d3 and d1+d3>d2 and d2+d3>d1\n",
    "print(\"Co phai tam giac khong?:\", check)\n",
    "\n",
    "if check == True:\n",
    "    tamgiacvuong = (d1**2 + d2**2)**0.5 == d3 or (d1**2 + d3**2)**0.5 == d2 or (d2**2 + d3**2)**0.5 == d1\n",
    "    print(\"Day la tam giac vuong:\", tamgiacvuong)\n",
    "\n",
    "    tamgiaccan = d1 == d2 != d3 or d1 == d3 != d2 or d2 == d3 != d1\n",
    "    print(\"Day la tam giac can:\", tamgiaccan)\n",
    "\n",
    "    tamgiacdeu = d1 == d2 == d3\n",
    "    print(\"Day la tam giac deu:\", tamgiacdeu)\n",
    "\n",
    "    tamgiacnhon = not tamgiacvuong and not tamgiaccan and not tamgiacdeu\n",
    "    print(\"Day la tam giac nhon:\", tamgiacnhon)\n",
    "else:\n",
    "    print(\"Day khong phai la tam giac\")"
   ]
  },
  {
   "cell_type": "code",
   "execution_count": null,
   "id": "5a60e67d",
   "metadata": {},
   "outputs": [],
   "source": []
  }
 ],
 "metadata": {
  "kernelspec": {
   "display_name": "Python 3",
   "language": "python",
   "name": "python3"
  },
  "language_info": {
   "codemirror_mode": {
    "name": "ipython",
    "version": 3
   },
   "file_extension": ".py",
   "mimetype": "text/x-python",
   "name": "python",
   "nbconvert_exporter": "python",
   "pygments_lexer": "ipython3",
   "version": "3.8.8"
  }
 },
 "nbformat": 4,
 "nbformat_minor": 5
}
